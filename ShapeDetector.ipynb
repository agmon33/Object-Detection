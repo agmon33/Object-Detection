{
 "cells": [
  {
   "cell_type": "code",
   "execution_count": 2,
   "metadata": {},
   "outputs": [],
   "source": [
    "import cv2\n",
    "\n",
    "class ShapeDetector:\n",
    "    def __init__(self):\n",
    "        pass\n",
    "\n",
    "    def detect(self,c):\n",
    "        shape = \"unidentified\"\n",
    "        peri = cv2.arcLength(c,True)\n",
    "        approx = cv2.approxPolyDP(c, 0.04 * peri, True)\n",
    "\n",
    "        # if the shape is a triangle, it will have 3 vertices\n",
    "        if len(approx) == 3:\n",
    "            shape = \"triangle\"\n",
    "\n",
    "        # if the shape has 4 vertices, it is either a square or a rectangle\n",
    "        elif len(approx) == 4:\n",
    "            # compute the bounding box of the contour and use the bounding box to compute the aspect ratio\n",
    "            x,y,w,h = cv2.boundingRect(approx)\n",
    "            ar = w / float(h)\n",
    "\n",
    "            # a square will have an aspect ratio that is approximately equal to one, otherwise, the shape is rectangle\n",
    "            shape = \"square\" if ar >= 0.95 and ar <= 1.05 else \"rectangle\"\n",
    "\n",
    "\n",
    "        # if the shape is a start, it will have 10 vertices\n",
    "        elif len(approx) == 10:\n",
    "            shape = \"star\"\n",
    "\n",
    "        # otherwise we will assume that the shape is circle\n",
    "        else:\n",
    "            area = cv2.contourArea(c)\n",
    "            if(len(approx) >= 6) & (len(approx) <= 23) and area > 30:\n",
    "                shape = \"circle\"\n",
    "\n",
    "        #return the name of the shape\n",
    "        return shape\n"
   ]
  }
 ],
 "metadata": {
  "anaconda-cloud": {},
  "kernelspec": {
   "display_name": "Python 3 (ipykernel)",
   "language": "python",
   "name": "python3"
  },
  "language_info": {
   "codemirror_mode": {
    "name": "ipython",
    "version": 3
   },
   "file_extension": ".py",
   "mimetype": "text/x-python",
   "name": "python",
   "nbconvert_exporter": "python",
   "pygments_lexer": "ipython3",
   "version": "3.9.13"
  }
 },
 "nbformat": 4,
 "nbformat_minor": 4
}
