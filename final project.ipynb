{
 "cells": [
  {
   "cell_type": "code",
   "execution_count": 36,
   "id": "e21060da",
   "metadata": {},
   "outputs": [],
   "source": [
    "import imutils\n",
    "import cv2\n",
    "import numpy as np\n",
    "import matplotlib.pyplot as plt"
   ]
  },
  {
   "cell_type": "code",
   "execution_count": 46,
   "id": "2dc6b1a1",
   "metadata": {},
   "outputs": [],
   "source": [
    "# load the image and resize it to a smalle rfactor so that the shapes can be approximated better\n",
    "def detectShapes(originalImage):\n",
    "    copyImage = originalImage.copy()\n",
    "    mat = np.ones((5, 5), np.uint8)\n",
    "    gradImage = cv2.morphologyEx(copyImage, cv2.MORPH_GRADIENT, mat)\n",
    "\n",
    "    resized = imutils.resize(gradImage, width=1000)\n",
    "    ratio = copyImage.shape[0] / float(resized.shape[0])\n",
    "\n",
    "    # convert the resized newImage to grayscale, blur it slightly and threshold it\n",
    "    gray = cv2.cvtColor(resized, cv2.COLOR_BGR2GRAY)\n",
    "    blurred = cv2.GaussianBlur(gray, (5, 5), 0)\n",
    "    _, thresh = cv2.threshold(blurred, 25, 255, cv2.THRESH_BINARY)\n",
    "\n",
    "    # find contours in the threshold copyImage and initialize the shape detector\n",
    "    contours = cv2.findContours(thresh.copy(), cv2.RETR_EXTERNAL, cv2.CHAIN_APPROX_SIMPLE)\n",
    "    contours = imutils.grab_contours(contours)\n",
    "    shapeDetectorObject = ShapeDetector()\n",
    "\n",
    "    Triangle = 0\n",
    "    Rectangle = 0\n",
    "    Square = 0\n",
    "    Circle = 0\n",
    "    Star = 0\n",
    "\n",
    "    # loop over the contours\n",
    "    for current in contours:\n",
    "        # compute the center of the contour, then detect the name of the\n",
    "        # shape using only the contour\n",
    "        M = cv2.moments(current)\n",
    "        cX = int((M[\"m10\"] / M[\"m00\"]) * ratio)\n",
    "        cY = int((M[\"m01\"] / M[\"m00\"]) * ratio)\n",
    "\n",
    "        # Check which shape came back and add to amount variable\n",
    "        shape = shapeDetectorObject.detect(current)\n",
    "\n",
    "        if (shape == \"triangle\"):\n",
    "            Triangle += 1\n",
    "        elif (shape == \"rectangle\"):\n",
    "            Rectangle += 1\n",
    "        elif (shape == \"square\"):\n",
    "            Square += 1\n",
    "        elif (shape == \"star\"):\n",
    "            Star += 1\n",
    "        elif (shape == \"circle\"):\n",
    "            Circle += 1\n",
    "\n",
    "        # multiply the contour (x, y)-coordinates by the resize ratio,\n",
    "        # then draw the contours and the name of the shape on the copyImage\n",
    "        current = current.astype(\"float\")\n",
    "        current *= ratio\n",
    "        current = current.astype(\"int\")\n",
    "        cv2.drawContours(copyImage, [current], -1, (0, 255, 0), 3)\n",
    "        cv2.putText(copyImage, shape, (cX, cY), cv2.FONT_HERSHEY_SIMPLEX, 0.5, (255, 255, 255), 2)\n",
    "\n",
    "    # No need for post process: Example why:\n",
    "    # laplacian = cv2.Laplacian(newImage, cv2.CV_16S, ksize=3)\n",
    "    # newImage = newImage + laplacian\n",
    "\n",
    "\n",
    "    return gradImage, thresh, copyImage, Triangle, Rectangle, Square, Star, Circle"
   ]
  },
  {
   "cell_type": "code",
   "execution_count": 47,
   "id": "b6fe3915",
   "metadata": {},
   "outputs": [],
   "source": [
    "import cv2\n",
    "\n",
    "class ShapeDetector:\n",
    "    def __init__(self):\n",
    "        pass\n",
    "\n",
    "    def detect(self,c):\n",
    "        shape = \"unidentified\"\n",
    "        peri = cv2.arcLength(c,True)\n",
    "        approx = cv2.approxPolyDP(c, 0.04 * peri, True)\n",
    "\n",
    "        # if the shape is a triangle, it will have 3 vertices\n",
    "        if len(approx) == 3:\n",
    "            shape = \"triangle\"\n",
    "\n",
    "        # if the shape has 4 vertices, it is either a square or a rectangle\n",
    "        elif len(approx) == 4:\n",
    "            # compute the bounding box of the contour and use the bounding box to compute the aspect ratio\n",
    "            x,y,w,h = cv2.boundingRect(approx)\n",
    "            ar = w / float(h)\n",
    "\n",
    "            # a square will have an aspect ratio that is approximately equal to one, otherwise, the shape is rectangle\n",
    "            shape = \"square\" if ar >= 0.95 and ar <= 1.05 else \"rectangle\"\n",
    "\n",
    "\n",
    "        # if the shape is a star, it will have 10 vertices\n",
    "        elif len(approx) == 10:\n",
    "            shape = \"star\"\n",
    "\n",
    "        # otherwise we will assume that the shape is circle\n",
    "        else:\n",
    "            area = cv2.contourArea(c)\n",
    "            if(len(approx) >= 6) & (len(approx) <= 23) and area > 30:\n",
    "                shape = \"unidentified\"\n",
    "\n",
    "        #return the name of the shape\n",
    "        return shape"
   ]
  },
  {
   "cell_type": "code",
   "execution_count": 51,
   "id": "4d031e04",
   "metadata": {},
   "outputs": [
    {
     "data": {
      "image/png": "[encoded data removed]",
      "text/plain": [
       "<Figure size 432x288 with 4 Axes>"
      ]
     },
     "metadata": {
      "needs_background": "light"
     },
     "output_type": "display_data"
    },
    {
     "name": "stdout",
     "output_type": "stream",
     "text": [
      "Triangles: 1\n",
      "Rectangles: 2\n",
      "Stars: 1\n"
     ]
    }
   ],
   "source": [
    "originalImage = cv2.imread(\"photos/two rectangles one star one triangle.png\")\n",
    "\n",
    "gradImage, thresh, copyImage, \\\n",
    "Triangle, Rectangle, Square, Star, Circle = detectShapes(originalImage)\n",
    "\n",
    "# show the output newImage\n",
    "plt.figure()\n",
    "\n",
    "plt.subplot(221)\n",
    "plt.imshow(originalImage)\n",
    "plt.title(\"original image\")\n",
    "\n",
    "plt.subplot(222)\n",
    "plt.imshow(gradImage)\n",
    "plt.title(\"gradient image\")\n",
    "\n",
    "plt.subplot(223)\n",
    "plt.imshow(thresh)\n",
    "plt.title(\"thresh image\")\n",
    "\n",
    "plt.subplot(224)\n",
    "plt.imshow(copyImage)\n",
    "plt.title(\"image after process\")\n",
    "\n",
    "plt.show()\n",
    "\n",
    "if (Triangle > 0):\n",
    "    print(\"Triangles:\", Triangle)\n",
    "if (Rectangle > 0):\n",
    "    print(\"Rectangles:\", Rectangle)\n",
    "if (Square > 0):\n",
    "    print(\"Squares:\", Square)\n",
    "if (Star > 0):\n",
    "    print(\"Stars:\", Star)\n",
    "if (Circle > 0):\n",
    "    print(\"Circles:\", Circle)"
   ]
  },
  {
   "cell_type": "code",
   "execution_count": null,
   "id": "00ded6e1",
   "metadata": {},
   "outputs": [],
   "source": []
  }
 ],
 "metadata": {
  "kernelspec": {
   "display_name": "Python 3 (ipykernel)",
   "language": "python",
   "name": "python3"
  },
  "language_info": {
   "codemirror_mode": {
    "name": "ipython",
    "version": 3
   },
   "file_extension": ".py",
   "mimetype": "text/x-python",
   "name": "python",
   "nbconvert_exporter": "python",
   "pygments_lexer": "ipython3",
   "version": "3.10.4"
  }
 },
 "nbformat": 4,
 "nbformat_minor": 5
}
